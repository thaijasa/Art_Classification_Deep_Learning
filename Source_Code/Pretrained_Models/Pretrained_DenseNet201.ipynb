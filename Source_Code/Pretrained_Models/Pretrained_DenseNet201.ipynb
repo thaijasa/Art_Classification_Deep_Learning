{
 "cells": [
  {
   "cell_type": "code",
   "execution_count": 1,
   "metadata": {},
   "outputs": [
    {
     "name": "stderr",
     "output_type": "stream",
     "text": [
      "Using TensorFlow backend.\n"
     ]
    }
   ],
   "source": [
    "#Reference: https://www.kaggle.com/danrusei/10-monkey-keras-transfer-learning-resnet50\n",
    "\n",
    "import numpy as np \n",
    "import pandas as pd \n",
    "\n",
    "from tensorflow.contrib.keras.api.keras.callbacks import Callback\n",
    "from tensorflow.contrib.keras.api.keras.preprocessing.image import ImageDataGenerator\n",
    "from tensorflow.contrib.keras import backend\n",
    "from keras.optimizers import Adam\n",
    "from glob import glob\n",
    "import os"
   ]
  },
  {
   "cell_type": "code",
   "execution_count": null,
   "metadata": {},
   "outputs": [],
   "source": [
    "training_dir = \"/Users/vineevineela/Documents/Semester-4/CMPE-256/Project/dataset/training\"\n",
    "test_dir = \"/Users/vineevineela/Documents/Semester-4/CMPE-256/Project/dataset/validation\""
   ]
  },
  {
   "cell_type": "code",
   "execution_count": null,
   "metadata": {},
   "outputs": [],
   "source": [
    "training_dir"
   ]
  },
  {
   "cell_type": "code",
   "execution_count": null,
   "metadata": {},
   "outputs": [],
   "source": [
    "# useful for getting number of files\n",
    "train_count = glob(training_dir + '/*/*.jp*g')\n",
    "test_count = glob(test_dir + '/*/*.jp*g')"
   ]
  },
  {
   "cell_type": "code",
   "execution_count": null,
   "metadata": {},
   "outputs": [],
   "source": [
    "len(test_dir)"
   ]
  },
  {
   "cell_type": "code",
   "execution_count": null,
   "metadata": {},
   "outputs": [],
   "source": [
    "# getting the number of classes i.e. type of fruits\n",
    "folders = glob(training_dir + '/*')\n",
    "num_classes = len(folders)\n",
    "print(num_classes)"
   ]
  },
  {
   "cell_type": "code",
   "execution_count": null,
   "metadata": {},
   "outputs": [],
   "source": [
    "from keras.applications import DenseNet201\n",
    "from keras.models import Sequential\n",
    "from keras.layers import Dense, Flatten, GlobalAveragePooling2D\n",
    "import keras\n",
    "my_new_model = Sequential()\n",
    "\n",
    "my_new_model.add(DenseNet201(include_top=False, pooling='avg', weights='imagenet'))\n",
    "my_new_model.add(Dense(4096,activation='relu'))\n",
    "my_new_model.add(keras.layers.Dropout(0.5))\n",
    "\n",
    "my_new_model.add(Dense(num_classes, activation='softmax'))\n",
    "\n",
    "# my_new_model.layers[0].trainable = False\n",
    "for layers in my_new_model.layers[-2:]:\n",
    "    layers.trainable=True\n"
   ]
  },
  {
   "cell_type": "code",
   "execution_count": null,
   "metadata": {},
   "outputs": [],
   "source": [
    "my_new_model.summary()"
   ]
  },
  {
   "cell_type": "code",
   "execution_count": null,
   "metadata": {},
   "outputs": [],
   "source": [
    "from keras.preprocessing.image import ImageDataGenerator\n",
    "from keras.applications.vgg16 import preprocess_input\n",
    "input_size = (64,64)\n",
    "batch_size = 32\n",
    "\n",
    "training_datagen = ImageDataGenerator(\n",
    "                                    rescale=1./255,   # all pixel values will be between 0 an 1\n",
    "                                    shear_range=0.2, \n",
    "                                    zoom_range=0.2,\n",
    "                                    horizontal_flip = True,\n",
    "                                    preprocessing_function=preprocess_input)\n",
    "\n",
    "test_datagen = ImageDataGenerator(\n",
    "                                    rescale=1./255,   # all pixel values will be between 0 an 1\n",
    "                                    preprocessing_function=preprocess_input)\n",
    "\n",
    "\n",
    "training_generator = training_datagen.flow_from_directory(training_dir, target_size = input_size, batch_size = batch_size, class_mode = 'categorical')\n",
    "test_generator = test_datagen.flow_from_directory(test_dir, target_size = input_size, batch_size = batch_size, class_mode= 'categorical')\n"
   ]
  },
  {
   "cell_type": "code",
   "execution_count": null,
   "metadata": {},
   "outputs": [],
   "source": [
    "import keras\n",
    "opt = keras.optimizers.Adam(lr=1e-3, decay=1e-6) \n",
    "my_new_model.compile(optimizer= opt, loss='categorical_crossentropy', metrics=['accuracy'])\n"
   ]
  },
  {
   "cell_type": "code",
   "execution_count": null,
   "metadata": {},
   "outputs": [],
   "source": [
    "test_generator.class_indices"
   ]
  },
  {
   "cell_type": "code",
   "execution_count": null,
   "metadata": {},
   "outputs": [],
   "source": [
    "model_info = my_new_model.fit_generator(training_generator,\n",
    "                         steps_per_epoch=7721/batch_size,\n",
    "                         epochs=2,\n",
    "                         validation_data=test_generator,\n",
    "                         validation_steps=856/batch_size,\n",
    "                         workers=12)"
   ]
  },
  {
   "cell_type": "code",
   "execution_count": null,
   "metadata": {},
   "outputs": [],
   "source": []
  }
 ],
 "metadata": {
  "kernelspec": {
   "display_name": "Python 3",
   "language": "python",
   "name": "python3"
  },
  "language_info": {
   "codemirror_mode": {
    "name": "ipython",
    "version": 3
   },
   "file_extension": ".py",
   "mimetype": "text/x-python",
   "name": "python",
   "nbconvert_exporter": "python",
   "pygments_lexer": "ipython3",
   "version": "3.6.6"
  }
 },
 "nbformat": 4,
 "nbformat_minor": 2
}
