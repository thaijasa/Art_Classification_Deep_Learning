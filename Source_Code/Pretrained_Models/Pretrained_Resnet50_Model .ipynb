{
 "cells": [
  {
   "cell_type": "code",
   "execution_count": 2,
   "metadata": {},
   "outputs": [
    {
     "name": "stderr",
     "output_type": "stream",
     "text": [
      "Using TensorFlow backend.\n"
     ]
    }
   ],
   "source": [
    "#Reference: https://www.kaggle.com/danrusei/10-monkey-keras-transfer-learning-resnet50\n",
    "\n",
    "import numpy as np \n",
    "import pandas as pd \n",
    "\n",
    "from tensorflow.contrib.keras.api.keras.callbacks import Callback\n",
    "from tensorflow.contrib.keras.api.keras.preprocessing.image import ImageDataGenerator\n",
    "from tensorflow.contrib.keras import backend\n",
    "from keras.optimizers import Adam\n",
    "from glob import glob\n",
    "import os"
   ]
  },
  {
   "cell_type": "code",
   "execution_count": 3,
   "metadata": {},
   "outputs": [],
   "source": [
    "training_dir = \"C:/Users/avadh/Desktop/CMPE 256/Dataset/training_set\"\n",
    "test_dir = \"C:/Users/avadh/Desktop/CMPE 256/Dataset/validation_set\""
   ]
  },
  {
   "cell_type": "code",
   "execution_count": 4,
   "metadata": {},
   "outputs": [],
   "source": [
    "# useful for getting number of files\n",
    "train_count = glob(training_dir + '/*/*.jp*g')\n",
    "test_count = glob(test_dir + '/*/*.jp*g')"
   ]
  },
  {
   "cell_type": "code",
   "execution_count": 5,
   "metadata": {},
   "outputs": [
    {
     "name": "stdout",
     "output_type": "stream",
     "text": [
      "5\n"
     ]
    }
   ],
   "source": [
    "# getting the number of classes i.e. type of fruits\n",
    "folders = glob(training_dir + '/*')\n",
    "num_classes = len(folders)\n",
    "print(num_classes)"
   ]
  },
  {
   "cell_type": "code",
   "execution_count": 14,
   "metadata": {},
   "outputs": [],
   "source": [
    "from keras.applications import ResNet50\n",
    "from keras.models import Sequential\n",
    "from keras.layers import Dense, Flatten, GlobalAveragePooling2D\n",
    "import keras\n",
    "my_new_model = Sequential()\n",
    "\n",
    "my_new_model.add(ResNet50(include_top=False, pooling='avg', weights='imagenet'))\n",
    "my_new_model.add(Dense(4096,activation='relu'))\n",
    "my_new_model.add(keras.layers.Dropout(0.5))\n",
    "\n",
    "my_new_model.add(Dense(num_classes, activation='softmax'))\n",
    "\n",
    "# my_new_model.layers[0].trainable = False\n",
    "for layers in my_new_model.layers[-2:]:\n",
    "    layers.trainable=True\n"
   ]
  },
  {
   "cell_type": "code",
   "execution_count": 15,
   "metadata": {},
   "outputs": [
    {
     "name": "stdout",
     "output_type": "stream",
     "text": [
      "_________________________________________________________________\n",
      "Layer (type)                 Output Shape              Param #   \n",
      "=================================================================\n",
      "resnet50 (Model)             (None, 2048)              23587712  \n",
      "_________________________________________________________________\n",
      "dense_5 (Dense)              (None, 4096)              8392704   \n",
      "_________________________________________________________________\n",
      "dropout_2 (Dropout)          (None, 4096)              0         \n",
      "_________________________________________________________________\n",
      "dense_6 (Dense)              (None, 5)                 20485     \n",
      "=================================================================\n",
      "Total params: 32,000,901\n",
      "Trainable params: 31,947,781\n",
      "Non-trainable params: 53,120\n",
      "_________________________________________________________________\n"
     ]
    }
   ],
   "source": [
    "my_new_model.summary()"
   ]
  },
  {
   "cell_type": "code",
   "execution_count": 16,
   "metadata": {},
   "outputs": [
    {
     "name": "stdout",
     "output_type": "stream",
     "text": [
      "Found 7721 images belonging to 5 classes.\n",
      "Found 856 images belonging to 5 classes.\n"
     ]
    }
   ],
   "source": [
    "from keras.preprocessing.image import ImageDataGenerator\n",
    "from keras.applications.vgg16 import preprocess_input\n",
    "input_size = (64,64)\n",
    "batch_size = 32\n",
    "\n",
    "training_datagen = ImageDataGenerator(\n",
    "                                    rescale=1./255,   # all pixel values will be between 0 an 1\n",
    "                                    shear_range=0.2, \n",
    "                                    zoom_range=0.2,\n",
    "                                    horizontal_flip = True,\n",
    "                                    preprocessing_function=preprocess_input)\n",
    "\n",
    "test_datagen = ImageDataGenerator(\n",
    "                                    rescale=1./255,   # all pixel values will be between 0 an 1\n",
    "                                    preprocessing_function=preprocess_input)\n",
    "\n",
    "\n",
    "training_generator = training_datagen.flow_from_directory(training_dir, target_size = input_size, batch_size = batch_size, class_mode = 'categorical')\n",
    "test_generator = test_datagen.flow_from_directory(test_dir, target_size = input_size, batch_size = batch_size, class_mode= 'categorical')\n"
   ]
  },
  {
   "cell_type": "code",
   "execution_count": 17,
   "metadata": {},
   "outputs": [],
   "source": [
    "import keras\n",
    "opt = keras.optimizers.Adam(lr=1e-3, decay=1e-6) \n",
    "my_new_model.compile(optimizer= opt, loss='categorical_crossentropy', metrics=['accuracy'])\n"
   ]
  },
  {
   "cell_type": "code",
   "execution_count": 18,
   "metadata": {},
   "outputs": [
    {
     "data": {
      "text/plain": [
       "{'drawings': 0,\n",
       " 'engraving': 1,\n",
       " 'iconography': 2,\n",
       " 'painting': 3,\n",
       " 'sculpture': 4}"
      ]
     },
     "execution_count": 18,
     "metadata": {},
     "output_type": "execute_result"
    }
   ],
   "source": [
    "test_generator.class_indices"
   ]
  },
  {
   "cell_type": "code",
   "execution_count": 19,
   "metadata": {},
   "outputs": [
    {
     "name": "stdout",
     "output_type": "stream",
     "text": [
      "Epoch 1/2\n",
      " 55/241 [=====>........................] - ETA: 32:06 - loss: 1.2838 - acc: 0.5506"
     ]
    },
    {
     "name": "stderr",
     "output_type": "stream",
     "text": [
      "C:\\Users\\avadh\\Anaconda3\\envs\\tensorflow\\lib\\site-packages\\PIL\\Image.py:931: UserWarning: Palette images with Transparency   expressed in bytes should be converted to RGBA images\n",
      "  'to RGBA images')\n"
     ]
    },
    {
     "name": "stdout",
     "output_type": "stream",
     "text": [
      "179/241 [=====================>........] - ETA: 9:49 - loss: 0.8721 - acc: 0.6988"
     ]
    },
    {
     "name": "stderr",
     "output_type": "stream",
     "text": [
      "C:\\Users\\avadh\\Anaconda3\\envs\\tensorflow\\lib\\site-packages\\PIL\\TiffImagePlugin.py:747: UserWarning: Possibly corrupt EXIF data.  Expecting to read 6029312 bytes but only got 0. Skipping tag 0\n",
      "  \" Skipping tag %s\" % (size, len(data), tag))\n",
      "C:\\Users\\avadh\\Anaconda3\\envs\\tensorflow\\lib\\site-packages\\PIL\\TiffImagePlugin.py:747: UserWarning: Possibly corrupt EXIF data.  Expecting to read 1311848 bytes but only got 785. Skipping tag 0\n",
      "  \" Skipping tag %s\" % (size, len(data), tag))\n",
      "C:\\Users\\avadh\\Anaconda3\\envs\\tensorflow\\lib\\site-packages\\PIL\\TiffImagePlugin.py:764: UserWarning: Corrupt EXIF data.  Expecting to read 12 bytes but only got 8. \n",
      "  warnings.warn(str(msg))\n"
     ]
    },
    {
     "name": "stdout",
     "output_type": "stream",
     "text": [
      "242/241 [==============================] - 2171s 9s/step - loss: 0.8021 - acc: 0.7238 - val_loss: 1.0351 - val_acc: 0.6928\n",
      "Epoch 2/2\n",
      "242/241 [==============================] - 1649s 7s/step - loss: 0.5998 - acc: 0.8007 - val_loss: 1.5206 - val_acc: 0.7290\n"
     ]
    }
   ],
   "source": [
    "model_info = my_new_model.fit_generator(training_generator,\n",
    "                         steps_per_epoch=7721/batch_size,\n",
    "                         epochs=2,\n",
    "                         validation_data=test_generator,\n",
    "                         validation_steps=856/batch_size,\n",
    "                         workers=12)"
   ]
  },
  {
   "cell_type": "code",
   "execution_count": null,
   "metadata": {},
   "outputs": [],
   "source": []
  }
 ],
 "metadata": {
  "kernelspec": {
   "display_name": "Python 3",
   "language": "python",
   "name": "python3"
  },
  "language_info": {
   "codemirror_mode": {
    "name": "ipython",
    "version": 3
   },
   "file_extension": ".py",
   "mimetype": "text/x-python",
   "name": "python",
   "nbconvert_exporter": "python",
   "pygments_lexer": "ipython3",
   "version": "3.6.6"
  }
 },
 "nbformat": 4,
 "nbformat_minor": 2
}
