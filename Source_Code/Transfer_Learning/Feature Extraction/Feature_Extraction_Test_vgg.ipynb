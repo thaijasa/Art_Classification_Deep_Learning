{
 "cells": [
  {
   "cell_type": "code",
   "execution_count": 1,
   "metadata": {},
   "outputs": [
    {
     "name": "stderr",
     "output_type": "stream",
     "text": [
      "/anaconda3/lib/python3.6/site-packages/h5py/__init__.py:36: FutureWarning: Conversion of the second argument of issubdtype from `float` to `np.floating` is deprecated. In future, it will be treated as `np.float64 == np.dtype(float).type`.\n",
      "  from ._conv import register_converters as _register_converters\n",
      "Using TensorFlow backend.\n"
     ]
    }
   ],
   "source": [
    "import numpy as np\n",
    "import os\n",
    "\n",
    "from keras.preprocessing import image\n",
    "from keras.applications.vgg16 import VGG16\n",
    "from keras.applications.vgg16 import preprocess_input\n"
   ]
  },
  {
   "cell_type": "code",
   "execution_count": 2,
   "metadata": {},
   "outputs": [],
   "source": [
    "model = VGG16(weights='imagenet', include_top=False)"
   ]
  },
  {
   "cell_type": "code",
   "execution_count": 3,
   "metadata": {
    "scrolled": true
   },
   "outputs": [],
   "source": [
    "path = '/Users/thaijasa/Documents/Masters/Fall_2018/Large_Scale_Analytics/Project/Dataset_Final/validation_set'\n",
    "\n",
    "vgg16_feature_main = []\n",
    "\n",
    "for folder in os.listdir(path):\n",
    "    if(\".DS_Store\" not in folder):\n",
    "        vgg16_feature_list = []\n",
    "        for img_path in os.listdir(os.path.join(path,folder)):\n",
    "            if('.DS_Store' not in img_path):\n",
    "                img = image.load_img(os.path.join(path,folder,img_path), target_size=(224, 224))\n",
    "                img_data = image.img_to_array(img)\n",
    "                img_data = np.expand_dims(img_data, axis=0)\n",
    "                img_data = preprocess_input(img_data)\n",
    "                vgg16_feature = model.predict(img_data)\n",
    "                vgg16_feature_np = np.array(vgg16_feature)\n",
    "                vgg16_feature_list.append(vgg16_feature_np.flatten())\n",
    "        \n",
    "        vgg16_feature_list_np = np.array(vgg16_feature_list)\n",
    "\n",
    "        vgg16_feature_main.append(vgg16_feature_list_np)\n",
    "                \n",
    "vgg16_feature_main_np = np.array(vgg16_feature_main)\n"
   ]
  },
  {
   "cell_type": "code",
   "execution_count": 4,
   "metadata": {},
   "outputs": [],
   "source": [
    "#Exporting features lists to csv sheet\n",
    "\n",
    "import pandas as pd \n",
    "df = pd.DataFrame()\n",
    "\n",
    "for noOfFiles in range(vgg16_feature_main_np.size):\n",
    "    sample = pd.DataFrame(vgg16_feature_main_np[noOfFiles])\n",
    "    df = pd.concat([df,sample])\n",
    "\n",
    "df.to_csv(\"/Users/thaijasa/Documents/Masters/Fall_2018/Large_Scale_Analytics/Project/Dataset_Final/X_test_vgg.csv\")"
   ]
  },
  {
   "cell_type": "code",
   "execution_count": 5,
   "metadata": {},
   "outputs": [],
   "source": [
    "category = []\n",
    "\n",
    "for folder in os.listdir(path):\n",
    "    if(\".DS_Store\" not in folder):\n",
    "        for img_path in os.listdir(os.path.join(path,folder)):\n",
    "            if('.DS_Store' not in img_path):\n",
    "                category.append(folder)"
   ]
  },
  {
   "cell_type": "code",
   "execution_count": 6,
   "metadata": {
    "scrolled": true
   },
   "outputs": [],
   "source": [
    "import csv \n",
    "\n",
    "csvfile = \"/Users/thaijasa/Documents/Masters/Fall_2018/Large_Scale_Analytics/Project/Dataset_Final/Y_test_vgg.csv\"\n",
    "\n",
    "with open(csvfile, \"w\") as output:\n",
    "    writer = csv.writer(output, lineterminator='\\n')\n",
    "    for val in category:\n",
    "        writer.writerow([val]) "
   ]
  },
  {
   "cell_type": "code",
   "execution_count": null,
   "metadata": {},
   "outputs": [],
   "source": []
  }
 ],
 "metadata": {
  "kernelspec": {
   "display_name": "Python 3",
   "language": "python",
   "name": "python3"
  },
  "language_info": {
   "codemirror_mode": {
    "name": "ipython",
    "version": 3
   },
   "file_extension": ".py",
   "mimetype": "text/x-python",
   "name": "python",
   "nbconvert_exporter": "python",
   "pygments_lexer": "ipython3",
   "version": "3.6.5"
  }
 },
 "nbformat": 4,
 "nbformat_minor": 2
}
