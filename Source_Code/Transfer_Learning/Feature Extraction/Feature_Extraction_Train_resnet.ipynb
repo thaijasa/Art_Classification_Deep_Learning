{
 "cells": [
  {
   "cell_type": "code",
   "execution_count": null,
   "metadata": {},
   "outputs": [],
   "source": [
    "#Reference Links Used:\n",
    "\n",
    "# https://medium.com/@franky07724_57962/using-keras-pre-trained-models-for-feature-extraction-in-image-clustering-a142c6cdf5b1\n",
    "#   "
   ]
  },
  {
   "cell_type": "code",
   "execution_count": 1,
   "metadata": {},
   "outputs": [
    {
     "name": "stderr",
     "output_type": "stream",
     "text": [
      "/anaconda3/lib/python3.6/site-packages/h5py/__init__.py:36: FutureWarning: Conversion of the second argument of issubdtype from `float` to `np.floating` is deprecated. In future, it will be treated as `np.float64 == np.dtype(float).type`.\n",
      "  from ._conv import register_converters as _register_converters\n",
      "Using TensorFlow backend.\n"
     ]
    }
   ],
   "source": [
    "import numpy as np\n",
    "import os\n",
    "\n",
    "from keras.preprocessing import image\n",
    "from keras.applications.resnet50 import preprocess_input\n",
    "from keras.applications.resnet50 import ResNet50\n"
   ]
  },
  {
   "cell_type": "code",
   "execution_count": 2,
   "metadata": {},
   "outputs": [
    {
     "name": "stderr",
     "output_type": "stream",
     "text": [
      "/anaconda3/lib/python3.6/site-packages/keras_applications/resnet50.py:265: UserWarning: The output shape of `ResNet50(include_top=False)` has been changed since Keras 2.2.0.\n",
      "  warnings.warn('The output shape of `ResNet50(include_top=False)` '\n"
     ]
    }
   ],
   "source": [
    "model = ResNet50(weights='imagenet', include_top=False)"
   ]
  },
  {
   "cell_type": "code",
   "execution_count": 3,
   "metadata": {
    "scrolled": true
   },
   "outputs": [
    {
     "name": "stderr",
     "output_type": "stream",
     "text": [
      "/anaconda3/lib/python3.6/site-packages/PIL/Image.py:918: UserWarning: Palette images with Transparency   expressed in bytes should be converted to RGBA images\n",
      "  'to RGBA images')\n",
      "/anaconda3/lib/python3.6/site-packages/PIL/TiffImagePlugin.py:739: UserWarning: Possibly corrupt EXIF data.  Expecting to read 6029312 bytes but only got 0. Skipping tag 0\n",
      "  \" Skipping tag %s\" % (size, len(data), tag))\n",
      "/anaconda3/lib/python3.6/site-packages/PIL/TiffImagePlugin.py:739: UserWarning: Possibly corrupt EXIF data.  Expecting to read 1311848 bytes but only got 785. Skipping tag 0\n",
      "  \" Skipping tag %s\" % (size, len(data), tag))\n",
      "/anaconda3/lib/python3.6/site-packages/PIL/TiffImagePlugin.py:756: UserWarning: Corrupt EXIF data.  Expecting to read 12 bytes but only got 8. \n",
      "  warnings.warn(str(msg))\n"
     ]
    }
   ],
   "source": [
    "path = '/Users/thaijasa/Documents/Masters/Fall_2018/Large_Scale_Analytics/Project/Dataset_Final/training_set'\n",
    "\n",
    "resnet_feature_main = []\n",
    "\n",
    "for folder in os.listdir(path):\n",
    "    if(\".DS_Store\" not in folder):\n",
    "        resnet_feature_list = []\n",
    "        for img_path in os.listdir(os.path.join(path,folder)):\n",
    "            if('.DS_Store' not in img_path):\n",
    "                img = image.load_img(os.path.join(path,folder,img_path), target_size=(224, 224))\n",
    "                img_data = image.img_to_array(img)\n",
    "                img_data = np.expand_dims(img_data, axis=0)\n",
    "                img_data = preprocess_input(img_data)\n",
    "                resnet_feature = model.predict(img_data)\n",
    "                resnet_feature_np = np.array(resnet_feature)\n",
    "                resnet_feature_list.append(resnet_feature_np.flatten())\n",
    "        \n",
    "        resnet_feature_list_np = np.array(resnet_feature_list)\n",
    "\n",
    "        resnet_feature_main.append(resnet_feature_list_np)\n",
    "                \n",
    "resnet_feature_main_np = np.array(resnet_feature_main)\n"
   ]
  },
  {
   "cell_type": "code",
   "execution_count": 4,
   "metadata": {},
   "outputs": [],
   "source": [
    "#Exporting features lists to csv sheet\n",
    "\n",
    "import pandas as pd \n",
    "df = pd.DataFrame()\n",
    "\n",
    "for noOfFiles in range(resnet_feature_main_np.size):\n",
    "    sample = pd.DataFrame(resnet_feature_main_np[noOfFiles])\n",
    "    df = pd.concat([df,sample])\n",
    "\n",
    "df.to_csv(\"/Users/thaijasa/Documents/Masters/Fall_2018/Large_Scale_Analytics/Project/Dataset_Final/X_train_resnet.csv\")"
   ]
  },
  {
   "cell_type": "code",
   "execution_count": 5,
   "metadata": {},
   "outputs": [],
   "source": [
    "category = []\n",
    "\n",
    "for folder in os.listdir(path):\n",
    "    if(\".DS_Store\" not in folder):\n",
    "        for img_path in os.listdir(os.path.join(path,folder)):\n",
    "            if('.DS_Store' not in img_path):\n",
    "                category.append(folder)"
   ]
  },
  {
   "cell_type": "code",
   "execution_count": 6,
   "metadata": {
    "scrolled": true
   },
   "outputs": [],
   "source": [
    "import csv \n",
    "\n",
    "csvfile = \"/Users/thaijasa/Documents/Masters/Fall_2018/Large_Scale_Analytics/Project/Dataset_Final/Y_train_resnet.csv\"\n",
    "\n",
    "with open(csvfile, \"w\") as output:\n",
    "    writer = csv.writer(output, lineterminator='\\n')\n",
    "    for val in category:\n",
    "        writer.writerow([val]) "
   ]
  },
  {
   "cell_type": "code",
   "execution_count": null,
   "metadata": {},
   "outputs": [],
   "source": []
  }
 ],
 "metadata": {
  "kernelspec": {
   "display_name": "Python 3",
   "language": "python",
   "name": "python3"
  },
  "language_info": {
   "codemirror_mode": {
    "name": "ipython",
    "version": 3
   },
   "file_extension": ".py",
   "mimetype": "text/x-python",
   "name": "python",
   "nbconvert_exporter": "python",
   "pygments_lexer": "ipython3",
   "version": "3.6.5"
  }
 },
 "nbformat": 4,
 "nbformat_minor": 2
}
