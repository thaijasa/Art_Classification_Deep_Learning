{
 "cells": [
  {
   "cell_type": "code",
   "execution_count": 2,
   "metadata": {},
   "outputs": [],
   "source": [
    "import os\n",
    "import pandas\n",
    "import numpy\n",
    "import matplotlib as pyplot\n",
    "import numpy as np \n",
    "from glob import glob\n",
    "\n",
    "%matplotlib inline"
   ]
  },
  {
   "cell_type": "code",
   "execution_count": 17,
   "metadata": {},
   "outputs": [],
   "source": [
    "training_dir = \"/Users/vineevineela/Downloads/training\"\n",
    "test_dir = \"/Users/vineevineela/Downloads/validation\""
   ]
  },
  {
   "cell_type": "code",
   "execution_count": 26,
   "metadata": {},
   "outputs": [
    {
     "name": "stdout",
     "output_type": "stream",
     "text": [
      "['sculpture', 'iconography', 'engraving', 'drawings', 'painting']\n"
     ]
    }
   ],
   "source": [
    "label = os.listdir(training_dir)\n",
    "test_label =  os.listdir(test_dir)\n",
    "test_labels = []\n",
    "labels = []\n",
    "\n",
    "for num_of_categories in range(len(label)):\n",
    "    if(label[num_of_categories] != \".DS_Store\"):\n",
    "        labels.append(label[num_of_categories])\n",
    "        \n",
    "for num_of_categories in range(len(test_label)):\n",
    "    if(label[num_of_categories] != \".DS_Store\"):\n",
    "        test_labels.append(test_label[num_of_categories])\n",
    "        \n",
    "print(test_labels)"
   ]
  },
  {
   "cell_type": "code",
   "execution_count": 27,
   "metadata": {},
   "outputs": [],
   "source": [
    "# getting the number of classes \n",
    "folders = glob(training_dir + '/*')"
   ]
  },
  {
   "cell_type": "code",
   "execution_count": 28,
   "metadata": {},
   "outputs": [
    {
     "data": {
      "text/plain": [
       "['/Users/vineevineela/Downloads/validation/sculpture',\n",
       " '/Users/vineevineela/Downloads/validation/iconography',\n",
       " '/Users/vineevineela/Downloads/validation/engraving',\n",
       " '/Users/vineevineela/Downloads/validation/drawings',\n",
       " '/Users/vineevineela/Downloads/validation/painting']"
      ]
     },
     "execution_count": 28,
     "metadata": {},
     "output_type": "execute_result"
    }
   ],
   "source": [
    "test_folders =glob(test_dir + '/*')\n",
    "test_folders"
   ]
  },
  {
   "cell_type": "code",
   "execution_count": 29,
   "metadata": {},
   "outputs": [],
   "source": [
    "sculpture_count= 0;\n",
    "iconography_count=0;\n",
    "engraving_count=0;\n",
    "drawings_count=0;\n",
    "painting_count=0;\n",
    "\n",
    "for num_of_folder in range(len(folders)):\n",
    "    tempLabel = labels[num_of_folder]\n",
    "    for Image in os.listdir(folders[num_of_folder]):\n",
    "        if(tempLabel == \"sculpture\"):\n",
    "            sculpture_count = sculpture_count + 1\n",
    "        if(tempLabel == \"iconography\"):\n",
    "            iconography_count = iconography_count + 1\n",
    "        if(tempLabel == \"engraving\"):\n",
    "            engraving_count = engraving_count + 1\n",
    "        if(tempLabel == \"drawings\"):\n",
    "            drawings_count = drawings_count + 1\n",
    "        if(tempLabel == \"painting\"):\n",
    "            painting_count = painting_count + 1\n"
   ]
  },
  {
   "cell_type": "code",
   "execution_count": 31,
   "metadata": {},
   "outputs": [],
   "source": [
    "test_sculpture_count= 0;\n",
    "test_iconography_count=0;\n",
    "test_engraving_count=0;\n",
    "test_drawings_count=0;\n",
    "test_painting_count=0;\n",
    "\n",
    "for num_of_folder in range(len(test_folders)):\n",
    "    tempLabel = test_labels[num_of_folder]\n",
    "    for Image in os.listdir(test_folders[num_of_folder]):\n",
    "        if(tempLabel == \"sculpture\"):\n",
    "            test_sculpture_count = test_sculpture_count + 1\n",
    "        if(tempLabel == \"iconography\"):\n",
    "            test_iconography_count = test_iconography_count + 1\n",
    "        if(tempLabel == \"engraving\"):\n",
    "            test_engraving_count = test_engraving_count + 1\n",
    "        if(tempLabel == \"drawings\"):\n",
    "            test_drawings_count = test_drawings_count + 1\n",
    "        if(tempLabel == \"painting\"):\n",
    "            test_painting_count = test_painting_count + 1\n"
   ]
  },
  {
   "cell_type": "code",
   "execution_count": 33,
   "metadata": {},
   "outputs": [
    {
     "data": {
      "image/png": "[encoded data removed]",
      "text/plain": [
       "<Figure size 432x288 with 1 Axes>"
      ]
     },
     "metadata": {
      "needs_background": "light"
     },
     "output_type": "display_data"
    }
   ],
   "source": [
    "#BarChart to compare different F1Scores\n",
    "\n",
    "import matplotlib.pyplot as plt\n",
    "\n",
    "TrainingCategories =[]\n",
    "label = []\n",
    "\n",
    "TrainingDatasetCount = [sculpture_count, iconography_count, engraving_count, drawings_count, painting_count] \n",
    "label = ['sculpture','iconography','engraving','drawings','painting']\n",
    "\n",
    "x_axis = np.arange(len(TrainingDatasetCount))\n",
    "y_axis = TrainingDatasetCount\n",
    "\n",
    "plt.bar(x_axis, y_axis, color = 'orange')\n",
    "plt.xticks(x_axis, label, fontsize=10)\n",
    "\n",
    "plt.xlabel(\"Categories\")\n",
    "plt.ylabel('No of Images')\n",
    "plt.title('No of images in training dataset')\n",
    "\n",
    "plt.show()"
   ]
  },
  {
   "cell_type": "code",
   "execution_count": 34,
   "metadata": {},
   "outputs": [
    {
     "data": {
      "image/png": "[encoded data removed]",
      "text/plain": [
       "<Figure size 432x288 with 1 Axes>"
      ]
     },
     "metadata": {
      "needs_background": "light"
     },
     "output_type": "display_data"
    }
   ],
   "source": [
    "#BarChart to compare different F1Scores\n",
    "\n",
    "TestCategories =[]\n",
    "\n",
    "TestCategories = [test_sculpture_count, test_iconography_count, test_engraving_count, test_drawings_count, test_painting_count] #, EXT_F1, ADB_F1, XGB_F1, Bag_F1, naive_F1]\n",
    "\n",
    "x_axis = np.arange(len(TestCategories))\n",
    "y_axis = TestCategories\n",
    "\n",
    "plt.bar(x_axis, y_axis, color = 'blue')\n",
    "plt.xticks(x_axis, label, fontsize=10)\n",
    "\n",
    "plt.xlabel(\"Categories\")\n",
    "plt.ylabel('No of Images')\n",
    "plt.title('No of images in test dataset')\n",
    "\n",
    "plt.show()"
   ]
  },
  {
   "cell_type": "code",
   "execution_count": 35,
   "metadata": {},
   "outputs": [
    {
     "data": {
      "image/png": "[encoded data removed]",
      "text/plain": [
       "<Figure size 432x288 with 1 Axes>"
      ]
     },
     "metadata": {
      "needs_background": "light"
     },
     "output_type": "display_data"
    }
   ],
   "source": [
    "CNN= 75.771\n",
    "InceptionResNetV2 = 66.766\n",
    "DenseNet = 60.654\n",
    "Resnet50 = 64.976\n",
    "VGG16 = 26.99\n",
    "Xception = 71.31\n",
    "\n",
    "\n",
    "# time in sec\n",
    "XceptionTime = 622\n",
    "ResnetTime = 2052\n",
    "VGG16Time = 942\n",
    "DenseNetTime = 2540\n",
    "CNNTime = 3764\n",
    "InceptionResnetTime =2754\n",
    "\n",
    "import matplotlib.pyplot as plt\n",
    "\n",
    "Accuracy =[]\n",
    "label = []\n",
    "\n",
    "Accuracy = [CNN, InceptionResNetV2, DenseNet, Resnet50, VGG16, Xception] \n",
    "label = ['CNN','IncepRes','DenseNet','Resnet','VGG','Xception']\n",
    "\n",
    "x_axis = np.arange(len(Accuracy))\n",
    "y_axis = Accuracy\n",
    "\n",
    "plt.bar(x_axis, y_axis, color = 'orange')\n",
    "plt.xticks(x_axis, label, fontsize=10)\n",
    "\n",
    "plt.xlabel(\"Algorithms\")\n",
    "plt.ylabel('Accuracy')\n",
    "plt.title('Accuracy comarision for different algorithms')\n",
    "\n",
    "plt.show()"
   ]
  },
  {
   "cell_type": "code",
   "execution_count": 36,
   "metadata": {},
   "outputs": [
    {
     "data": {
      "image/png": "[encoded data removed]",
      "text/plain": [
       "<Figure size 432x288 with 1 Axes>"
      ]
     },
     "metadata": {
      "needs_background": "light"
     },
     "output_type": "display_data"
    }
   ],
   "source": [
    "AlgorithmsLatencyTime = []\n",
    "\n",
    "AlgorithmsLatencyTime = [CNNTime,InceptionResnetTime,DenseNetTime, ResnetTime,VGG16Time, XceptionTime]\n",
    "\n",
    "x_axis = np.arange(len(AlgorithmsLatencyTime))\n",
    "\n",
    "# plt.plot( x_axis, AlgorithmsLatencyTime, color='purple', linewidth=3, linestyle='marker', label=\"AlgorithmsLatencyTime\")\n",
    "plt.plot( x_axis, AlgorithmsLatencyTime, marker='o', markerfacecolor='blue', markersize=8, color='skyblue', linewidth=4, label=\"AlgorithmsLatencyTime\")\n",
    "\n",
    "plt.xticks(x_axis, label, fontsize=10)\n",
    "plt.xlabel(\"Algorithms\")\n",
    "plt.ylabel(\"Latency Time in Sec\")\n",
    "plt.title('Latency Time for Algorithms')\n",
    "\n",
    "plt.show()"
   ]
  },
  {
   "cell_type": "code",
   "execution_count": null,
   "metadata": {},
   "outputs": [],
   "source": []
  }
 ],
 "metadata": {
  "kernelspec": {
   "display_name": "Python 3",
   "language": "python",
   "name": "python3"
  },
  "language_info": {
   "codemirror_mode": {
    "name": "ipython",
    "version": 3
   },
   "file_extension": ".py",
   "mimetype": "text/x-python",
   "name": "python",
   "nbconvert_exporter": "python",
   "pygments_lexer": "ipython3",
   "version": "3.6.6"
  }
 },
 "nbformat": 4,
 "nbformat_minor": 2
}
